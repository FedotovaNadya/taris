{
 "cells": [
  {
   "cell_type": "code",
   "execution_count": null,
   "metadata": {},
   "outputs": [],
   "source": [
    "from redminelib import Redmine\n",
    "import uuid\n",
    "import random\n",
    "import config\n",
    "\n",
    "\n",
    "redmine_url = 'https://oldkroll.asuscomm.com/'\n",
    "redmine_api_key = ''\n",
    "project_id = 'afk'\n",
    "\n",
    "\n",
    "def create_redmine_issue(exception_message):\n",
    "    try:\n",
    "        redmine = Redmine(redmine_url, key=redmine_api_key)\n",
    "        project = redmine.project.get(project_id)\n",
    "        \n",
    "        issue = redmine.issue.new()\n",
    "        issue.project_id = project.id\n",
    "        issue.subject = f'Ошибка {str(uuid.uuid4())}'\n",
    "        issue.description = f'Ошибка: {exception_message}'\n",
    "        issue.tracker_id = 1  # Идентификатор типа задачи (1 - Баг)\n",
    "        issue.priority_id = 3  # Идентификатор приоритета (2 - Высокий)\n",
    "        issue.assigned_to_id = \"me\"  # Идентификатор пользователя, которому назначено\n",
    "        issue.due_date = '2023-11-11'  # Срок завершения (замените на нужную дату)\n",
    "        issue.estimated_hours = 3  # Оценка временных затрат в часах (замените на нужное значение)\n",
    "        issue.save()\n",
    "        print(f'Создана задача об ошибке в Redmine: {redmine_url}/issues/{issue.id}')\n",
    "        \n",
    "    except Exception as e:\n",
    "        print(f'Ошибка при создании задачи в Redmine: {str(e)}')\n"
   ]
  },
  {
   "cell_type": "code",
   "execution_count": null,
   "metadata": {},
   "outputs": [],
   "source": [
    "try:\n",
    "    list = [1, 2, 3, 4, 5]\n",
    "    list_item = list[5]\n",
    "except Exception as e:\n",
    "    create_redmine_issue(str(e))"
   ]
  }
 ],
 "metadata": {
  "kernelspec": {
   "display_name": "Python 3",
   "language": "python",
   "name": "python3"
  },
  "language_info": {
   "codemirror_mode": {
    "name": "ipython",
    "version": 3
   },
   "file_extension": ".py",
   "mimetype": "text/x-python",
   "name": "python",
   "nbconvert_exporter": "python",
   "pygments_lexer": "ipython3",
   "version": "3.11.6"
  }
 },
 "nbformat": 4,
 "nbformat_minor": 2
}
